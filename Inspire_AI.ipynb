{
  "nbformat": 4,
  "nbformat_minor": 0,
  "metadata": {
    "colab": {
      "provenance": [],
      "authorship_tag": "ABX9TyNp6P6fQqGIiH8A1apGTft8",
      "include_colab_link": true
    },
    "kernelspec": {
      "name": "python3",
      "display_name": "Python 3"
    },
    "language_info": {
      "name": "python"
    }
  },
  "cells": [
    {
      "cell_type": "markdown",
      "metadata": {
        "id": "view-in-github",
        "colab_type": "text"
      },
      "source": [
        "<a href=\"https://colab.research.google.com/github/Ayathussein09/Automated-Content-Generation-System/blob/main/Inspire_AI.ipynb\" target=\"_parent\"><img src=\"https://colab.research.google.com/assets/colab-badge.svg\" alt=\"Open In Colab\"/></a>"
      ]
    },
    {
      "cell_type": "code",
      "source": [
        "from transformers import LlavaNextProcessor, LlavaNextForConditionalGeneration\n",
        "import torch\n",
        "from PIL import Image\n",
        "import requests\n",
        "\n",
        "processor = LlavaNextProcessor.from_pretrained(\"llava-hf/llava-v1.6-mistral-7b-hf\")\n",
        "\n",
        "model = LlavaNextForConditionalGeneration.from_pretrained(\"llava-hf/llava-v1.6-mistral-7b-hf\", torch_dtype=torch.float16, low_cpu_mem_usage=True)\n",
        "model.to(\"cuda:0\")\n",
        "\n",
        "# prepare image and text prompt, using the appropriate prompt template\n",
        "\n",
        "image = Image.open(\"/kaggle/input/imagess/WhatsApp Image 2024-09-27 at 01.44.12_9c6aee87.jpg\")\n",
        "\n",
        "# Define a chat histiry and use `apply_chat_template` to get correctly formatted prompt\n",
        "# Each value in \"content\" has to be a list of dicts with types (\"text\", \"image\")\n",
        "conversation = [\n",
        "    {\n",
        "\n",
        "      \"role\": \"user\",\n",
        "      \"content\": [\n",
        "          {\"type\": \"text\", \"text\": \"What is shown in this image?\"},\n",
        "          {\"type\": \"image\"},\n",
        "        ],\n",
        "    },\n",
        "]\n",
        "prompt = processor.apply_chat_template(conversation, add_generation_prompt=True)\n",
        "\n",
        "inputs = processor(images=image, text=prompt, return_tensors=\"pt\").to(\"cuda:0\")\n",
        "\n",
        "# autoregressively complete prompt\n",
        "output = model.generate(**inputs, max_new_tokens=1024)\n",
        "\n",
        "x=processor.decode(output[0], skip_special_tokens=True)\n",
        "x = x.split(']', 2)[2].strip()\n",
        "print(x)\n",
        "x=processor.decode(output[0], skip_special_tokens=True)\n",
        "x = x.split(']', 2)[2].strip()\n",
        "print(x)\n",
        "!pip install transformers"
      ],
      "metadata": {
        "id": "2u_Dfm4msjlH"
      },
      "execution_count": null,
      "outputs": []
    },
    {
      "cell_type": "markdown",
      "source": [
        "##Lama"
      ],
      "metadata": {
        "id": "HLQGW5Cbsp0k"
      }
    },
    {
      "cell_type": "code",
      "source": [
        "!pip install --upgrade transformers\n",
        "import torch\n",
        "from transformers import pipeline\n",
        "\n",
        "model_id = \"meta-llama/Llama-3.2-3B-Instruct\"\n",
        "pipe = pipeline(\n",
        "    \"text-generation\",\n",
        "    model=model_id,\n",
        "    torch_dtype=torch.bfloat16,\n",
        "    device_map=\"auto\",\n",
        ")"
      ],
      "metadata": {
        "id": "R9IDyZD1tA_F"
      },
      "execution_count": null,
      "outputs": []
    },
    {
      "cell_type": "markdown",
      "source": [
        "##Stable Diffusion\n"
      ],
      "metadata": {
        "id": "-GGg6-vatIUx"
      }
    },
    {
      "cell_type": "code",
      "source": [
        "\n",
        "result = processor.decode(output[0], skip_special_tokens=True) # it's only if U want to convert the image to it's prompt &&&\n",
        "#if U don't want, change the **result** to your personalprompt and do not use the VL model\n",
        "messages = [\n",
        "    {\"role\": \"system\", \"content\": \"Write a very short prompt tailored for Stable Diffusion that emphasizes ultra-realistic details, intricate textures, and rich visual elements. The scene should feel immersive and lifelike, with a focus on clarity, lighting, and artistic composition.\"},\n",
        "    {\"role\": \"user\", \"content\": result},\n",
        "]\n",
        "outputs = pipe(\n",
        "    messages,\n",
        "    max_new_tokens=128,\n",
        ")\n",
        "x= outputs[0][\"generated_text\"][-1]\n",
        "content_value = x['content']\n",
        "messages = [\n",
        "    {\"role\": \"system\", \"content\": \" enchance the quality of this prompt to be not too long\"},\n",
        "    {\"role\": \"user\", \"content\": content_value },\n",
        "]\n",
        "outputs = pipe(\n",
        "    messages,\n",
        "    max_new_tokens=256,\n",
        ")\n",
        "x= outputs[0][\"generated_text\"][-1]\n",
        "content_value = x['content']\n",
        "print(content_value)"
      ],
      "metadata": {
        "id": "C4r_bllnsxfC"
      },
      "execution_count": null,
      "outputs": []
    },
    {
      "cell_type": "markdown",
      "source": [
        "##MidJourney"
      ],
      "metadata": {
        "id": "yapeBeexs13u"
      }
    },
    {
      "cell_type": "code",
      "execution_count": null,
      "metadata": {
        "id": "iGaMPbSfsbdw"
      },
      "outputs": [],
      "source": [
        "\n",
        "result = processor.decode(output[0], skip_special_tokens=True) # it's only if U want to convert the image to it's prompt &&&\n",
        "#if U don't want, change the **result** to your personalprompt and do not use the VL model\n",
        "messages = [\n",
        "    {\"role\": \"system\", \"content\": \"Generate a very short prompt that is vivid, detailed, and imaginative, suitable for creating a complex, cinematic image in MidJourney. Focus on intricate visual descriptions, including lighting, mood, and atmosphere. Use cinematic framing, and emphasize color, texture, and scale. Make sure the prompt evokes a highly creative and fantastical image.\"},\n",
        "    {\"role\": \"user\", \"content\": result},\n",
        "]\n",
        "outputs = pipe(\n",
        "    messages,\n",
        "    max_new_tokens=128,\n",
        ")\n",
        "x= outputs[0][\"generated_text\"][-1]\n",
        "content_value = x['content']\n",
        ""
      ]
    },
    {
      "cell_type": "code",
      "source": [
        "messages = [\n",
        "    {\"role\": \"system\", \"content\": \" enchance the quality of this prompt to be not too long\"},\n",
        "    {\"role\": \"user\", \"content\": content_value },\n",
        "]\n",
        "outputs = pipe(\n",
        "    messages,\n",
        "    max_new_tokens=256,\n",
        ")"
      ],
      "metadata": {
        "id": "CGE3DnqctXQ5"
      },
      "execution_count": null,
      "outputs": []
    },
    {
      "cell_type": "code",
      "source": [
        "x= outputs[0][\"generated_text\"][-1]\n",
        "content_value = x['content']\n",
        "print(content_value)"
      ],
      "metadata": {
        "id": "sKKyySBntZ91"
      },
      "execution_count": null,
      "outputs": []
    }
  ]
}